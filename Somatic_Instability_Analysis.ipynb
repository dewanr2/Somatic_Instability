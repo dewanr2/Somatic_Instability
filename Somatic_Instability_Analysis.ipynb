{
 "cells": [
  {
   "cell_type": "markdown",
   "metadata": {},
   "source": [
    "# Somatic Instability Analysis"
   ]
  },
  {
   "cell_type": "markdown",
   "metadata": {},
   "source": [
    "**Author:** Ramita Dewan <br>\n",
    "**Last edited:** 09-22-20 <br>"
   ]
  },
  {
   "cell_type": "markdown",
   "metadata": {},
   "source": [
    "*Method used to calculate Instability Indices:* as reported in Pinto et al., 2020 <br>\n",
    "https://pubmed.ncbi.nlm.nih.gov/32761094/"
   ]
  },
  {
   "cell_type": "markdown",
   "metadata": {},
   "source": [
    "## Table of Contents:\n",
    "* [Notes](#Notes)\n",
    "* [Calculate Instability Indices](#instability_indices)\n",
    "* [Create Plots](#create_plots)"
   ]
  },
  {
   "cell_type": "markdown",
   "metadata": {},
   "source": [
    "## Notes <a class=\"anchor\" id=\"Notes\"></a>\n",
    "### Files needed:\n",
    "1. Sample key (tab-delimited .txt file) containing the following columns (no heading) for each region (separate file for each sample): <br>\n",
    "    - File path for peak tables (.txt) direct output files from GeneMapper (4.0)<br>\n",
    "    - Region name\n",
    "    - Modal peak height (manual verification based on observation of peak table and chromatogram)\n",
    "    - Modal peak size (manual verification based on observation of peak table and chromatogram) <br>\n",
    "2.  Heatmap input dataframe (tab-delimited .txt file) containing the following columns (no heading): <br>\n",
    "    - Sample name that region corresponds to\n",
    "    - Region name\n",
    "    - Instability index for corresponding region"
   ]
  },
  {
   "cell_type": "markdown",
   "metadata": {},
   "source": [
    "## Calculate Instability Indices <a class=\"anchor\" id=\"instability_indices\"></a>\n"
   ]
  },
  {
   "cell_type": "code",
   "execution_count": 1,
   "metadata": {},
   "outputs": [],
   "source": [
    "import pandas as pd\n",
    "from pandas.api.types import CategoricalDtype\n",
    "import glob\n",
    "import matplotlib\n",
    "import matplotlib.pyplot as plt\n",
    "import re\n",
    "import seaborn as sns"
   ]
  },
  {
   "cell_type": "code",
   "execution_count": 2,
   "metadata": {},
   "outputs": [],
   "source": [
    "# Set default matplotlib parameters\n",
    "\n",
    "matplotlib.rcParams['font.sans-serif'] = \"Arial\"\n",
    "matplotlib.rcParams['font.family'] = \"sans-serif\"\n",
    "matplotlib.rcParams.update({'font.size': 14})\n",
    "matplotlib.rc('xtick', labelsize=14) \n",
    "matplotlib.rcParams['figure.dpi'] = 300"
   ]
  },
  {
   "cell_type": "code",
   "execution_count": 3,
   "metadata": {},
   "outputs": [],
   "source": [
    "def extract_files(sample_df):\n",
    "    \"\"\"Use the input parameter 'sample_df' to read individual sample dataframes, and return a list of \n",
    "    dataframes with desired column names.\"\"\"\n",
    "    \n",
    "    df_list = []\n",
    "    file_list = sample_df.iloc[:,0]\n",
    "    sampleID_list = sample_df.iloc[:,1]\n",
    "    \n",
    "    for item in range(len(file_list)):\n",
    "        df_list.append(pd.read_csv(file_list[item], delimiter='\\t'))\n",
    "        df_list[item] = df_list[item][['Sample File Name','Size','Height','Area','Data Point']]\n",
    "        df_list[item].columns = ['Sample_Name','Size','Height','Area','Data_Point']\n",
    "        df_list[item]['Sample_Name'] = sampleID_list[item]\n",
    "    \n",
    "    return df_list\n",
    "\n",
    "def exp_peak_subset(sample_df, extracted_files):\n",
    "    \"\"\"Use the input parameter 'sample_df' to read the height and size responding to the modal peak for \n",
    "    each sample, and then select all expansion peaks using the input parameter 'extracted_files'. The \n",
    "    expansion peaks are returned as a list of dataframes in 'sample_subset', as well as a list of modal \n",
    "    heights for all samples.\"\"\"\n",
    "    \n",
    "    modal_height = sample_df.iloc[:,2].tolist()\n",
    "    modal_size = sample_df.iloc[:,3].tolist()\n",
    "    \n",
    "    relative_threshold = []\n",
    "    sample_subset = []\n",
    "    \n",
    "    for item in range(len(modal_height)):\n",
    "        relative_threshold.append((modal_height[item]*0.01))\n",
    "        sample_subset.append(extracted_files[item][(extracted_files[item].Height >= \n",
    "                                                    relative_threshold[item]) & \n",
    "                                                   (extracted_files[item].Height <= \n",
    "                                                    modal_height[item]) &\n",
    "                                                   (extracted_files[item].Size > modal_size[item])])\n",
    "    \n",
    "    return sample_subset, modal_height\n",
    "\n",
    "def calc_instability_index(peak_subset_list, modal_height):\n",
    "    \"\"\"Use the list of expansion peaks for each sample, received as the input parameter \n",
    "    'peak_subset_list', as well as the modal heights for each sample, received as the input parameter \n",
    "    'modal_height', to calculate the instability index for each sample, returned as the list \n",
    "    'instability_index'. The modified 'peak_subset_list' is also returned, with columns for \n",
    "    normalized_Height, change_from_main, and normalized_Peak.\"\"\"\n",
    "    \n",
    "    # Calculate sum of heights of all peaks in subset  \n",
    "    height_sum = []\n",
    "    \n",
    "    for item in range(len(peak_subset_list)):\n",
    "        height_sum.append(peak_subset_list[item].Height.sum() + modal_height[item])\n",
    "        peak_subset_list[item]['normalized_Height'] = round(peak_subset_list[item].Height/\n",
    "                                                            height_sum[item],3)\n",
    "\n",
    "    # Create change from main\n",
    "    for item in range(len(peak_subset_list)):\n",
    "        for ii,row in peak_subset_list[item].iterrows():\n",
    "            maxHeightIndex = peak_subset_list[item].Height.idxmax()\n",
    "            currentHeight = peak_subset_list[item].loc[ii,'Height']\n",
    "            currentIndex = (peak_subset_list[item][peak_subset_list[item]['Height'] == \n",
    "                                                   currentHeight].index.values.astype(int)[0])\n",
    "            peak_subset_list[item].at[ii,'change_from_main'] = currentIndex - maxHeightIndex + 1\n",
    "\n",
    "    # Calculate and create new column for normalized peak \n",
    "    # (normalized peak = normalized height * change from main)\n",
    "    for item in range(len(peak_subset_list)):\n",
    "        for ii,row in peak_subset_list[item].iterrows():\n",
    "            peak_subset_list[item].at[ii,'normalized_Peak'] = round(peak_subset_list[item].at[ii,\n",
    "                        'normalized_Height'] * peak_subset_list[item].at[ii, 'change_from_main'],3)\n",
    "\n",
    "    # Calculate instability index\n",
    "    instability_index = []\n",
    "\n",
    "    for item in range(len(peak_subset_list)):\n",
    "        instabilityValue = round(peak_subset_list[item].normalized_Peak.sum(),3)\n",
    "        instability_index.append(instabilityValue)\n",
    "            \n",
    "    return peak_subset_list, instability_index"
   ]
  },
  {
   "cell_type": "code",
   "execution_count": 4,
   "metadata": {},
   "outputs": [
    {
     "name": "stderr",
     "output_type": "stream",
     "text": [
      "/Users/dewanr2/anaconda3/lib/python3.7/site-packages/ipykernel_launcher.py:52: SettingWithCopyWarning: \n",
      "A value is trying to be set on a copy of a slice from a DataFrame.\n",
      "Try using .loc[row_indexer,col_indexer] = value instead\n",
      "\n",
      "See the caveats in the documentation: https://pandas.pydata.org/pandas-docs/stable/user_guide/indexing.html#returning-a-view-versus-a-copy\n",
      "/Users/dewanr2/anaconda3/lib/python3.7/site-packages/pandas/core/indexing.py:845: SettingWithCopyWarning: \n",
      "A value is trying to be set on a copy of a slice from a DataFrame.\n",
      "Try using .loc[row_indexer,col_indexer] = value instead\n",
      "\n",
      "See the caveats in the documentation: https://pandas.pydata.org/pandas-docs/stable/user_guide/indexing.html#returning-a-view-versus-a-copy\n",
      "  self.obj[key] = _infer_fill_value(value)\n",
      "/Users/dewanr2/anaconda3/lib/python3.7/site-packages/pandas/core/indexing.py:966: SettingWithCopyWarning: \n",
      "A value is trying to be set on a copy of a slice from a DataFrame.\n",
      "Try using .loc[row_indexer,col_indexer] = value instead\n",
      "\n",
      "See the caveats in the documentation: https://pandas.pydata.org/pandas-docs/stable/user_guide/indexing.html#returning-a-view-versus-a-copy\n",
      "  self.obj[item] = s\n"
     ]
    }
   ],
   "source": [
    "# Read input sample list\n",
    "PT8_input = pd.read_csv('Input/PT8_input.txt', delimiter='\\t', header=None)\n",
    "PT5_input = pd.read_csv('Input/PT5_input.txt', delimiter='\\t', header=None)\n",
    "HD_PT_input = pd.read_csv('Input/HD_PT_input.txt', delimiter='\\t', header=None)\n",
    "\n",
    "# Extract files\n",
    "PT8_samples = extract_files(PT8_input)\n",
    "PT5_samples = extract_files(PT5_input)\n",
    "HD_PT_samples = extract_files(HD_PT_input)\n",
    "\n",
    "# Subset sample files to include expanded peaks only\n",
    "PT8_exp_peaks, PT8_modal_height = exp_peak_subset(PT8_input, PT8_samples)\n",
    "PT5_exp_peaks, PT5_modal_height = exp_peak_subset(PT5_input, PT5_samples)\n",
    "HD_PT_exp_peaks, HD_PT_modal_height = exp_peak_subset(HD_PT_input, HD_PT_samples)\n",
    "\n",
    "# Calculate instability indices\n",
    "PT8_final_exp_peaks, PT8_instability_indices = calc_instability_index(PT8_exp_peaks, PT8_modal_height)\n",
    "PT5_final_exp_peaks, PT5_instability_indices = calc_instability_index(PT5_exp_peaks, PT5_modal_height)\n",
    "HD_PT_final_exp_peaks, HD_PT_instability_indices = calc_instability_index(HD_PT_exp_peaks, \n",
    "                                                                          HD_PT_modal_height)"
   ]
  },
  {
   "cell_type": "markdown",
   "metadata": {},
   "source": [
    "## Create plots <a class=\"anchor\" id=\"create_plots\"></a>"
   ]
  },
  {
   "cell_type": "markdown",
   "metadata": {},
   "source": [
    "### Individual sample bar charts"
   ]
  },
  {
   "cell_type": "code",
   "execution_count": 5,
   "metadata": {},
   "outputs": [],
   "source": [
    "def create_ind_plot(input_df, instability_indices, plot_title, save_name):\n",
    "    \"\"\"Create individual sample bar charts. Input parameter 'input_df' is the same input file used for \n",
    "    somatic instability analysis. \"\"\"\n",
    "    \n",
    "    # Extract region names\n",
    "    sample_names = input_df.iloc[:,1].tolist()\n",
    "    \n",
    "    # Create sorted dataframe of regions and corresponding instability indices\n",
    "    plot_dict = {'Regions':sample_names, 'InstabilityIndices': instability_indices}\n",
    "    plotdf = pd.DataFrame(plot_dict)\n",
    "    plotdf_ordered = plotdf.sort_values(by=['InstabilityIndices'], ascending=False).copy()\n",
    "\n",
    "    # Create plot\n",
    "    ax = plotdf_ordered.plot.bar(x='Regions', y='InstabilityIndices', color=\"#7878ff\", \n",
    "                                 edgecolor='#929591', linewidth=1.2, figsize=(8,7))\n",
    "    plt.ylabel('Expansion Index')\n",
    "    plt.xlabel('')\n",
    "    plt.title(plot_title)\n",
    "    plt.xticks(rotation=45, ha='right') \n",
    "    ax.get_legend().remove()\n",
    "\n",
    "    plt.show()\n",
    "    plt.savefig('Output/'+save_name+'_092220.png', bbox_inches='tight')\n",
    "    plt.clf()"
   ]
  },
  {
   "cell_type": "code",
   "execution_count": 6,
   "metadata": {
    "scrolled": false
   },
   "outputs": [],
   "source": [
    "#create_ind_plot(PT8_input, PT8_instability_indices, 'Patient 8 (CAG 41/17)', 'PT8')\n",
    "#create_ind_plot(PT5_input, PT5_instability_indices, 'Patient 5 (CAG 40/15)', 'PT5')\n",
    "#create_ind_plot(HD_PT_input, HD_PT_instability_indices, 'HD Patient (CAG 41/17)', 'HD_PT')"
   ]
  },
  {
   "cell_type": "markdown",
   "metadata": {},
   "source": [
    "### Heatmap of aggregate instability indices"
   ]
  },
  {
   "cell_type": "code",
   "execution_count": 7,
   "metadata": {},
   "outputs": [],
   "source": [
    "# Read heatmap_dataset input dataframe\n",
    "heatmap_dataset = pd.read_csv('Input/ranking_input.txt', delimiter='\\t', header=None)\n",
    "heatmap_dataset.columns = ['Patient','Region','Value']\n",
    "\n",
    "# Clean up heatmap_dataset\n",
    "pts = ['PT_5', 'PT_8', 'HD_PT']\n",
    "pts_type = CategoricalDtype(categories=pts, ordered=True)\n",
    "heatmap_dataset[\"Patient\"] = heatmap_dataset[\"Patient\"].astype(pts_type)\n",
    "\n",
    "# Create sorted pivot table\n",
    "heatmap_pivot = pd.pivot_table(heatmap_dataset, index=['Region'], columns = ['Patient'], \n",
    "                               values=['Value'], dropna = False, margins=True)\n",
    "heatmap_pivot = heatmap_pivot.iloc[:-1]\n",
    "heatmap_pivot.sort_values(by=('Value','All'), ascending=False, inplace=True)  # sort by row sum\n",
    "heatmap_final = heatmap_pivot.iloc[:, :-1]"
   ]
  },
  {
   "cell_type": "code",
   "execution_count": 8,
   "metadata": {
    "scrolled": false
   },
   "outputs": [
    {
     "name": "stderr",
     "output_type": "stream",
     "text": [
      "/Users/dewanr2/anaconda3/lib/python3.7/site-packages/ipykernel_launcher.py:24: UserWarning: This figure includes Axes that are not compatible with tight_layout, so results might be incorrect.\n"
     ]
    },
    {
     "data": {
      "text/plain": [
       "<Figure size 1500x3300 with 0 Axes>"
      ]
     },
     "metadata": {},
     "output_type": "display_data"
    }
   ],
   "source": [
    "# Create figure\n",
    "fig, ax = plt.subplots(figsize = (5,11), dpi=300)\n",
    "\n",
    "# Create separate axis for color bar\n",
    "cbar_ax = fig.add_axes([1.0,0,.03,1.4])\n",
    "cbar_ax.tick_params(labelbottom=False, labeltop=False, length = 0, labelsize = 7)\n",
    "cbar_ax.set_yticks([])\n",
    "cbar_ax.set_xticks([])\n",
    "\n",
    "# Create heatmap\n",
    "x_axis_labels = ['Patient 5','Patient 8', 'HD Patient'] # set labels for x-axis\n",
    "sns.heatmap(heatmap_final, cbar=True, linecolor=\"w\", cmap = 'bwr', linewidths=1, \n",
    "            xticklabels=x_axis_labels, ax=ax, vmin=0, vmax=1, cbar_ax = cbar_ax, \n",
    "            mask=heatmap_final.isnull()) \n",
    "ax.set_facecolor('lightgray')\n",
    "\n",
    "# Move X axis labels to top\n",
    "ax.tick_params(labelbottom=False, labeltop=True, length = 0, labelsize = 13)\n",
    "\n",
    "# Remove axes titles\n",
    "ax.set_ylabel('')    \n",
    "ax.set_xlabel('')\n",
    "\n",
    "plt.tight_layout()\n",
    "#plt.savefig('Output/ranking_plot_091620_abbrev.png', bbox_inches='tight')\n",
    "#plt.show()\n",
    "plt.clf()"
   ]
  }
 ],
 "metadata": {
  "kernelspec": {
   "display_name": "Python 3",
   "language": "python",
   "name": "python3"
  },
  "language_info": {
   "codemirror_mode": {
    "name": "ipython",
    "version": 3
   },
   "file_extension": ".py",
   "mimetype": "text/x-python",
   "name": "python",
   "nbconvert_exporter": "python",
   "pygments_lexer": "ipython3",
   "version": "3.7.1"
  }
 },
 "nbformat": 4,
 "nbformat_minor": 2
}
